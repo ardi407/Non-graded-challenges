{
 "cells": [
  {
   "cell_type": "markdown",
   "metadata": {},
   "source": [
    "# TASK 1\n",
    "Given list of customer_id that doing transaction in 1 day\n",
    "How many unique customer_id from above list?"
   ]
  },
  {
   "cell_type": "code",
   "execution_count": 1,
   "metadata": {},
   "outputs": [],
   "source": [
    "customer_id =   ['B818', 'A461', 'A092', 'A082', 'B341', 'A005', \n",
    "                'A092', 'A461','B219', 'B904', 'A901', 'A083', \n",
    "                'B904', 'A092', 'B341', 'B821','B341', 'B821', \n",
    "                'B904', 'B818', 'A901', 'A083', 'B818', 'A082',\n",
    "                'B219', 'B219', 'A083', 'A901', 'A082', 'B341', \n",
    "                'B341', 'A083','A082', 'B219', 'B439', 'A461', \n",
    "                'A005', 'A901', 'B341', 'A082','A083', 'A461', \n",
    "                'A083', 'A901', 'A461', 'A083', 'A082', 'A083',\n",
    "                'B341', 'A901', 'A082', 'A461', 'B219', 'A083', \n",
    "                'B818', 'B821','A092', 'B341', 'A461', 'A092', \n",
    "                'A083', 'B821', 'A092']\n",
    "                "
   ]
  },
  {
   "cell_type": "code",
   "execution_count": 3,
   "metadata": {},
   "outputs": [
    {
     "name": "stdout",
     "output_type": "stream",
     "text": [
      "12\n"
     ]
    }
   ],
   "source": [
    "customer_set = set(customer_id)\n",
    "customer_length = customer_set\n",
    "print(len(customer_length))"
   ]
  },
  {
   "cell_type": "markdown",
   "metadata": {},
   "source": [
    "# TASK 2"
   ]
  },
  {
   "cell_type": "markdown",
   "metadata": {},
   "source": [
    "Given list of: Data = [1, 4, 9, 16, 25, 36, 49,  64, 81, 100]\n",
    "\n",
    "Use indexing so you can get this output:\n",
    "\n",
    "a.16\n",
    "\n",
    "b.[36, 49, 64, 81]\n",
    "\n",
    "c.[100, 81, 64, 49, 36, 25, 16, 9, 4, 1]\n"
   ]
  },
  {
   "cell_type": "code",
   "execution_count": 42,
   "metadata": {},
   "outputs": [
    {
     "name": "stdout",
     "output_type": "stream",
     "text": [
      "16\n",
      "[36, 49, 64, 81]\n",
      "[100, 81, 64, 49, 36, 25, 16, 9, 4, 1]\n"
     ]
    }
   ],
   "source": [
    "Data = [1, 4, 9, 16, 25, 36, 49,  64, 81, 100]\n",
    "\n",
    "print(Data[3])\n",
    "print(Data[5:9])\n",
    "print(Data[-1::-1])"
   ]
  },
  {
   "cell_type": "markdown",
   "metadata": {},
   "source": [
    "# Task 3\n",
    "\n",
    "What python command can be use to: <br>\n",
    "a. Get list of keys available in dictionary <br>\n",
    "b. Change 'Jawa Timur' value from 'Madiun'  to 'Surabaya' <br>\n"
   ]
  },
  {
   "cell_type": "code",
   "execution_count": 5,
   "metadata": {},
   "outputs": [],
   "source": [
    "provinsi = {'Nanggroe Aceh Darussalam': 'Aceh','Sumatera Selatan': 'Palembang',\n",
    "            'Kalimantan Barat': 'Pontianak','Jawa Timur': 'Madiun',\n",
    "            'Sulawesi Selatan': 'Makassar','Maluku': 'Ambon'}"
   ]
  },
  {
   "cell_type": "code",
   "execution_count": 7,
   "metadata": {},
   "outputs": [
    {
     "name": "stdout",
     "output_type": "stream",
     "text": [
      "metode 1\n",
      "['Nanggroe Aceh Darussalam', 'Sumatera Selatan', 'Kalimantan Barat', 'Jawa Timur', 'Sulawesi Selatan', 'Maluku']\n",
      "\n",
      "metode 2:\n",
      "dict_keys(['Nanggroe Aceh Darussalam', 'Sumatera Selatan', 'Kalimantan Barat', 'Jawa Timur', 'Sulawesi Selatan', 'Maluku'])\n"
     ]
    }
   ],
   "source": [
    "# a. Get list of keys available in dictionary using list comprehension\n",
    "data = [key for key, value in provinsi.items()]\n",
    "print(\"metode 1\")\n",
    "print(data)\n",
    "\n",
    "#or\n",
    "print('\\nmetode 2:')\n",
    "print(provinsi.keys())"
   ]
  },
  {
   "cell_type": "code",
   "execution_count": 8,
   "metadata": {},
   "outputs": [
    {
     "name": "stdout",
     "output_type": "stream",
     "text": [
      "{'Nanggroe Aceh Darussalam': 'Aceh', 'Sumatera Selatan': 'Palembang', 'Kalimantan Barat': 'Pontianak', 'Jawa Timur': 'Surabaya', 'Sulawesi Selatan': 'Makassar', 'Maluku': 'Ambon'}\n"
     ]
    }
   ],
   "source": [
    "# b. Change 'Jawa Timur' value from 'Madiun' to 'Surabaya'\n",
    "\n",
    "provinsi['Jawa Timur']='Surabaya'\n",
    "print(provinsi)"
   ]
  },
  {
   "cell_type": "code",
   "execution_count": null,
   "metadata": {},
   "outputs": [],
   "source": []
  }
 ],
 "metadata": {
  "kernelspec": {
   "display_name": "Python 3 (ipykernel)",
   "language": "python",
   "name": "python3"
  },
  "language_info": {
   "codemirror_mode": {
    "name": "ipython",
    "version": 3
   },
   "file_extension": ".py",
   "mimetype": "text/x-python",
   "name": "python",
   "nbconvert_exporter": "python",
   "pygments_lexer": "ipython3",
   "version": "3.11.5"
  }
 },
 "nbformat": 4,
 "nbformat_minor": 2
}
