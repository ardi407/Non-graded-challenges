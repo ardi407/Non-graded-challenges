{
 "cells": [
  {
   "cell_type": "code",
   "execution_count": 59,
   "id": "eb8a18ba",
   "metadata": {},
   "outputs": [],
   "source": [
    "import psycopg2 as ps\n",
    "import pandas as pd"
   ]
  },
  {
   "cell_type": "code",
   "execution_count": 16,
   "id": "e13843ce",
   "metadata": {},
   "outputs": [
    {
     "data": {
      "text/plain": [
       "<connection object at 0x0000021D12160590; dsn: 'user=postgres password=xxx dbname=hacktiv8 host=localhost port=5432', closed: 0>"
      ]
     },
     "execution_count": 16,
     "metadata": {},
     "output_type": "execute_result"
    }
   ],
   "source": [
    "conn = ps.connect(\n",
    "    host = \"localhost\",\n",
    "    port = 5432,\n",
    "    dbname = \"hacktiv8\",\n",
    "    user = \"postgres\",\n",
    "    password = \"postgres\"\n",
    ")\n",
    "\n",
    "conn"
   ]
  },
  {
   "cell_type": "code",
   "execution_count": 17,
   "id": "73ed24a8",
   "metadata": {},
   "outputs": [],
   "source": [
    "cursor = conn.cursor()"
   ]
  },
  {
   "cell_type": "code",
   "execution_count": 5,
   "id": "ad0d0cdd",
   "metadata": {},
   "outputs": [],
   "source": [
    "cursor.execute(query='''\n",
    "    CREATE TABLE IF NOT EXISTS \"Customers\" (\n",
    "        \"customer_id\" serial PRIMARY KEY,\n",
    "        \"customer_name\" text,\n",
    "        \"city\" text\n",
    "    );\n",
    "''')"
   ]
  },
  {
   "cell_type": "code",
   "execution_count": 22,
   "id": "45bd9643",
   "metadata": {},
   "outputs": [],
   "source": [
    "cursor.execute(query='''\n",
    "    CREATE TABLE IF NOT EXISTS \"Orders\" (\n",
    "        \"order_id\" serial PRIMARY KEY,\n",
    "        \"customer_id\" int,\n",
    "        \"customer_name\" text,\n",
    "        \"oder_date\" date,\n",
    "        \"total_amount\" int,\n",
    "        FOREIGN KEY (customer_id) \n",
    "            REFERENCES \"Customers\"(customer_id)\n",
    "    );\n",
    "''')"
   ]
  },
  {
   "cell_type": "code",
   "execution_count": 24,
   "id": "45ad8478",
   "metadata": {},
   "outputs": [],
   "source": [
    "cursor.execute(query='''\n",
    "    INSERT INTO \"Customers\" (customer_name, city)\n",
    "    VALUES ('John Doe', 'New York'),\n",
    "            ('Jane Smith', 'Los Angeles'),\n",
    "            ('David Johnson', 'Chicago');\n",
    "''')"
   ]
  },
  {
   "cell_type": "code",
   "execution_count": 32,
   "id": "3eb15df7",
   "metadata": {},
   "outputs": [],
   "source": [
    "cursor.execute(query='''\n",
    "    INSERT INTO \"Orders\" (customer_id, order_date, total_amount)\n",
    "    VALUES ('1', '2022-01-10', 100),\n",
    "            ('1', '2022-02-15', 150),\n",
    "            ('2', '2022-03-20', 200),\n",
    "            ('3', '2022-04-25', 50);\n",
    "''')"
   ]
  },
  {
   "cell_type": "code",
   "execution_count": 63,
   "id": "28f8b60e",
   "metadata": {},
   "outputs": [],
   "source": [
    "cursor.execute(query='''\n",
    "    SELECT \"Customers\".customer_name, COUNT(\"Orders\".order_date)\n",
    "    FROM \"Customers\"\n",
    "    JOIN \"Orders\" ON \"Customers\".customer_id = \"Orders\".customer_id\n",
    "    GROUP BY \"Customers\".customer_name;\n",
    "''')"
   ]
  },
  {
   "cell_type": "code",
   "execution_count": 64,
   "id": "427b6be5",
   "metadata": {},
   "outputs": [
    {
     "data": {
      "text/html": [
       "<div>\n",
       "<style scoped>\n",
       "    .dataframe tbody tr th:only-of-type {\n",
       "        vertical-align: middle;\n",
       "    }\n",
       "\n",
       "    .dataframe tbody tr th {\n",
       "        vertical-align: top;\n",
       "    }\n",
       "\n",
       "    .dataframe thead th {\n",
       "        text-align: right;\n",
       "    }\n",
       "</style>\n",
       "<table border=\"1\" class=\"dataframe\">\n",
       "  <thead>\n",
       "    <tr style=\"text-align: right;\">\n",
       "      <th></th>\n",
       "      <th>Customer Name</th>\n",
       "      <th>Order Count</th>\n",
       "    </tr>\n",
       "  </thead>\n",
       "  <tbody>\n",
       "    <tr>\n",
       "      <th>0</th>\n",
       "      <td>John Doe</td>\n",
       "      <td>2</td>\n",
       "    </tr>\n",
       "    <tr>\n",
       "      <th>1</th>\n",
       "      <td>David Johnson</td>\n",
       "      <td>1</td>\n",
       "    </tr>\n",
       "    <tr>\n",
       "      <th>2</th>\n",
       "      <td>Jane Smith</td>\n",
       "      <td>1</td>\n",
       "    </tr>\n",
       "  </tbody>\n",
       "</table>\n",
       "</div>"
      ],
      "text/plain": [
       "   Customer Name  Order Count\n",
       "0       John Doe            2\n",
       "1  David Johnson            1\n",
       "2     Jane Smith            1"
      ]
     },
     "execution_count": 64,
     "metadata": {},
     "output_type": "execute_result"
    }
   ],
   "source": [
    "result = cursor.fetchall()\n",
    "df = pd.DataFrame(result, columns=[\"Customer Name\", \"Order Count\"])\n",
    "df"
   ]
  },
  {
   "cell_type": "code",
   "execution_count": 54,
   "id": "f0ab89de",
   "metadata": {},
   "outputs": [],
   "source": [
    "conn.commit()"
   ]
  },
  {
   "cell_type": "code",
   "execution_count": 65,
   "id": "759e3b88",
   "metadata": {},
   "outputs": [],
   "source": [
    "if cursor:\n",
    "        cursor.close()\n",
    "if conn:\n",
    "    conn.close()"
   ]
  },
  {
   "cell_type": "code",
   "execution_count": null,
   "id": "3ad23fff",
   "metadata": {},
   "outputs": [],
   "source": []
  }
 ],
 "metadata": {
  "kernelspec": {
   "display_name": "Python 3 (ipykernel)",
   "language": "python",
   "name": "python3"
  },
  "language_info": {
   "codemirror_mode": {
    "name": "ipython",
    "version": 3
   },
   "file_extension": ".py",
   "mimetype": "text/x-python",
   "name": "python",
   "nbconvert_exporter": "python",
   "pygments_lexer": "ipython3",
   "version": "3.10.13"
  }
 },
 "nbformat": 4,
 "nbformat_minor": 5
}
