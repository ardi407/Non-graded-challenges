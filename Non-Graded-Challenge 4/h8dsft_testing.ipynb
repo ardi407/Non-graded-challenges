{
 "cells": [
  {
   "attachments": {
    "image-2.png": {
     "image/png": "[encoded data removed]"
    }
   },
   "cell_type": "markdown",
   "id": "2ed15659",
   "metadata": {},
   "source": [
    "![image-2.png](attachment:image-2.png)"
   ]
  },
  {
   "cell_type": "code",
   "execution_count": 11,
   "id": "05d688f4",
   "metadata": {},
   "outputs": [],
   "source": [
    "from collections import UserDict \n",
    "\n",
    "# UserDict adalah sebuah class dalam module collections yang mana jika sebuah kelas inherits UserDict, \n",
    "# maka class tersebut akan berperilaku seperti Dictionary"
   ]
  },
  {
   "cell_type": "code",
   "execution_count": 12,
   "id": "0079212f",
   "metadata": {},
   "outputs": [],
   "source": [
    "class Book_catalog(UserDict):\n",
    "    '''\n",
    "    class ini inherits sebuah Class parent UserDict dari module collections\n",
    "    tidak perlu membuat constructor untuk class Book_catalog, cukup membuat method2 yang sesuai\n",
    "    >>> Setiap value dari parameter method pada class ini dapat diolah menjadi dictionary dan value akan langsung disimpan dalam self.data\n",
    "    '''\n",
    "    \n",
    "    #method untuk menambah buku ke self.data\n",
    "    def add_book(self, title, author, id):\n",
    "        if id not in self.data:\n",
    "            self.data[id]={}\n",
    "        self.data[id]={'Title':title, 'Author':author}\n",
    "        \n",
    "    \n",
    "    # method untuk mengapus buku            \n",
    "    def delete_book_by_id(self, id):\n",
    "        if id in self.data.keys():\n",
    "            del self.data[id]\n",
    "        else:\n",
    "            print(\"Book doesn't exist\")\n",
    "            \n",
    "    # method untuk menampilkan isi semua buku yang ada\n",
    "    def display(self):\n",
    "        return self.data\n",
    "    \n",
    "    # method untuk mencari buku berdasarkan judul atau author sebagai kata kunci. \n",
    "    def search(self, keywords):\n",
    "        result =[]\n",
    "        for key, value in self.data.items():\n",
    "            if (value[\"Title\"] == keywords) or (value[\"Author\"] == keywords):\n",
    "                entry = f\"({value['Title']}) by {value['Author']}\"\n",
    "                result.append(entry)\n",
    "        if not result:\n",
    "            return \"Buku tidak ditemukan\"\n",
    "        return result\n",
    "    "
   ]
  },
  {
   "cell_type": "code",
   "execution_count": 25,
   "id": "7bbb518e",
   "metadata": {},
   "outputs": [
    {
     "name": "stderr",
     "output_type": "stream",
     "text": [
      "test_AddingBookSuccess (__main__.LibaryTesting.test_AddingBookSuccess) ... ok\n",
      "test_DeleteBook (__main__.LibaryTesting.test_DeleteBook) ... ok\n",
      "test_Display (__main__.LibaryTesting.test_Display) ... ok\n",
      "test_searchBook (__main__.LibaryTesting.test_searchBook) ... ok\n",
      "\n",
      "----------------------------------------------------------------------\n",
      "Ran 4 tests in 0.014s\n",
      "\n",
      "OK\n"
     ]
    },
    {
     "data": {
      "text/plain": [
       "<unittest.main.TestProgram at 0x24ff1954b10>"
      ]
     },
     "execution_count": 25,
     "metadata": {},
     "output_type": "execute_result"
    }
   ],
   "source": [
    "import unittest\n",
    "class LibaryTesting(unittest.TestCase):\n",
    "    \n",
    "    # method setup yang akan mengawali test, kita menyiapkan bahwa self.libary adalah object untuk Book_catalog class\n",
    "    def setUp(self):\n",
    "        self.library = Book_catalog()\n",
    "    \n",
    "    def test_AddingBookSuccess(self):\n",
    "        self.library.add_book(\"Sebuah judul yang ditest\", \"Nama yang ditest\", 100)\n",
    "        self.assertEqual(self.library.data[100][\"Title\"], 'Sebuah judul yang ditest')\n",
    "        self.assertEqual(self.library.data[100][\"Author\"], 'Nama yang ditest')\n",
    "    \n",
    "    def test_DeleteBook(self):\n",
    "        self.library.add_book(\"Sebuah judul yang ditest\", \"Nama yang ditest\", 200)\n",
    "        self.library.delete_book_by_id(200)\n",
    "        self.assertNotIn(200, self.library.data)\n",
    "    \n",
    "    def test_Display(self):\n",
    "        self.library.add_book(\"Sebuah judul yang ditest\", \"Nama yang ditest\", 500)\n",
    "        self.library.add_book(\"Sebuah judul yang ditest\", \"Nama yang ditest\", 600)\n",
    "        self.assertEqual(2, len(self.library.data))\n",
    "    \n",
    "    def test_searchBook(self):\n",
    "        # tambahin dulu yang akan dicari\n",
    "        self.library.add_book(\"Judul Buku 1\", \"Nama A\", 10)\n",
    "        self.library.add_book(\"Judul Buku 2\", \"Nama B\", 20)\n",
    "        \n",
    "        # simpan ke dalam container: pencarian menggunakan judul buku dan author\n",
    "        result_judul = self.library.search('Judul Buku 1')\n",
    "        result_author = self.library.search('Nama B')\n",
    "        \n",
    "        # karena hasil return adalah lis, maka lebih baik menggunakan assertIn\n",
    "        # hasil pencarian disebelah kanan karena berupa list dari sebuah f-string\n",
    "        self.assertIn('(Judul Buku 1) by Nama A', result_judul)\n",
    "        self.assertIn('(Judul Buku 2) by Nama B', result_author)\n",
    "        \n",
    "        # test jika buku tidak ada, test apakah balikan sesuai dengan yang diisi\n",
    "        not_found = self.library.search(\"Buku apalah itu\")\n",
    "        self.assertIn(not_found, \"Buku tidak ditemukan\")\n",
    "        \n",
    "        \n",
    "unittest.main(argv=[''], verbosity=2, exit=False)"
   ]
  },
  {
   "cell_type": "code",
   "execution_count": null,
   "id": "d95a6a8e",
   "metadata": {},
   "outputs": [],
   "source": []
  }
 ],
 "metadata": {
  "kernelspec": {
   "display_name": "Python 3 (ipykernel)",
   "language": "python",
   "name": "python3"
  },
  "language_info": {
   "codemirror_mode": {
    "name": "ipython",
    "version": 3
   },
   "file_extension": ".py",
   "mimetype": "text/x-python",
   "name": "python",
   "nbconvert_exporter": "python",
   "pygments_lexer": "ipython3",
   "version": "3.11.4"
  }
 },
 "nbformat": 4,
 "nbformat_minor": 5
}
